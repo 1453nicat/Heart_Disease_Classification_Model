{
  "nbformat": 4,
  "nbformat_minor": 0,
  "metadata": {
    "colab": {
      "provenance": []
    },
    "kernelspec": {
      "name": "python3",
      "display_name": "Python 3"
    },
    "language_info": {
      "name": "python"
    }
  },
  "cells": [
    {
      "cell_type": "markdown",
      "source": [
        "![image_1.webp](data:image/webp;base64,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)"
      ],
      "metadata": {
        "id": "PwwCKN7dEhIV"
      }
    },
    {
      "cell_type": "markdown",
      "source": [
        "First of all, ***Heart disease*** is a major global health issue that involves the narrowing or blockage of blood vessels, often due to plaque buildup (atherosclerosis). Key risk factors include high blood pressure, high cholesterol, smoking, obesity, and lack of exercise. From biological perspective, it can lead to chest pain, heart attacks, or arrhythmias, and is influenced by both genetic and lifestyle factors. Biomarkers like LDL, CRP, and troponin are used to assess risk and damage.\n",
        "\n",
        "On the other hand, ***The UCI Heart Disease*** dataset, from the Cleveland Clinic is widely used in ML to predict heart disease. It contains 303 patient records with clinical features such as age, sex, cholesterol, and blood pressure. The goal is to classify the presence or absence of heart disease. This dataset helps researchers build predictive models that support early diagnosis and treatment planning."
      ],
      "metadata": {
        "id": "B7SmqcBkEkF7"
      }
    },
    {
      "cell_type": "code",
      "execution_count": null,
      "metadata": {
        "id": "Vub8G8NuBbk-"
      },
      "outputs": [],
      "source": [
        "import pandas as pd\n",
        "import numpy as np\n",
        "from sklearn.model_selection import train_test_split, GridSearchCV\n",
        "from sklearn.preprocessing import StandardScaler\n",
        "from sklearn.impute import SimpleImputer\n",
        "from sklearn.pipeline import Pipeline\n",
        "from sklearn.linear_model import LogisticRegression\n",
        "from sklearn.neighbors import KNeighborsClassifier\n",
        "from sklearn.tree import DecisionTreeClassifier\n",
        "from sklearn.metrics import accuracy_score, confusion_matrix, classification_report\n",
        "import seaborn as sns\n",
        "import matplotlib.pyplot as plt\n",
        "import missingno as ms\n",
        "import warnings\n",
        "warnings.filterwarnings('ignore')"
      ]
    },
    {
      "cell_type": "code",
      "source": [
        "url = \"https://archive.ics.uci.edu/ml/machine-learning-databases/heart-disease/processed.cleveland.data\"\n",
        "columns = ['age', 'sex', 'cp', 'trestbps', 'chol', 'fbs', 'restecg', 'thalach',\n",
        "           'exang', 'oldpeak', 'slope', 'ca', 'thal', 'target']\n",
        "data = pd.read_csv(url, names = columns)\n",
        "\n",
        "data.head(10)"
      ],
      "metadata": {
        "colab": {
          "base_uri": "https://localhost:8080/",
          "height": 363
        },
        "id": "LXJoMbvOFaol",
        "outputId": "6ff7d484-1f50-486e-ca88-6140b489c807"
      },
      "execution_count": null,
      "outputs": [
        {
          "output_type": "execute_result",
          "data": {
            "text/plain": [
              "    age  sex   cp  trestbps   chol  fbs  restecg  thalach  exang  oldpeak  \\\n",
              "0  63.0  1.0  1.0     145.0  233.0  1.0      2.0    150.0    0.0      2.3   \n",
              "1  67.0  1.0  4.0     160.0  286.0  0.0      2.0    108.0    1.0      1.5   \n",
              "2  67.0  1.0  4.0     120.0  229.0  0.0      2.0    129.0    1.0      2.6   \n",
              "3  37.0  1.0  3.0     130.0  250.0  0.0      0.0    187.0    0.0      3.5   \n",
              "4  41.0  0.0  2.0     130.0  204.0  0.0      2.0    172.0    0.0      1.4   \n",
              "5  56.0  1.0  2.0     120.0  236.0  0.0      0.0    178.0    0.0      0.8   \n",
              "6  62.0  0.0  4.0     140.0  268.0  0.0      2.0    160.0    0.0      3.6   \n",
              "7  57.0  0.0  4.0     120.0  354.0  0.0      0.0    163.0    1.0      0.6   \n",
              "8  63.0  1.0  4.0     130.0  254.0  0.0      2.0    147.0    0.0      1.4   \n",
              "9  53.0  1.0  4.0     140.0  203.0  1.0      2.0    155.0    1.0      3.1   \n",
              "\n",
              "   slope   ca thal  target  \n",
              "0    3.0  0.0  6.0       0  \n",
              "1    2.0  3.0  3.0       2  \n",
              "2    2.0  2.0  7.0       1  \n",
              "3    3.0  0.0  3.0       0  \n",
              "4    1.0  0.0  3.0       0  \n",
              "5    1.0  0.0  3.0       0  \n",
              "6    3.0  2.0  3.0       3  \n",
              "7    1.0  0.0  3.0       0  \n",
              "8    2.0  1.0  7.0       2  \n",
              "9    3.0  0.0  7.0       1  "
            ],
            "text/html": [
              "\n",
              "  <div id=\"df-100d6595-0efd-401f-be3b-310904070a8a\" class=\"colab-df-container\">\n",
              "    <div>\n",
              "<style scoped>\n",
              "    .dataframe tbody tr th:only-of-type {\n",
              "        vertical-align: middle;\n",
              "    }\n",
              "\n",
              "    .dataframe tbody tr th {\n",
              "        vertical-align: top;\n",
              "    }\n",
              "\n",
              "    .dataframe thead th {\n",
              "        text-align: right;\n",
              "    }\n",
              "</style>\n",
              "<table border=\"1\" class=\"dataframe\">\n",
              "  <thead>\n",
              "    <tr style=\"text-align: right;\">\n",
              "      <th></th>\n",
              "      <th>age</th>\n",
              "      <th>sex</th>\n",
              "      <th>cp</th>\n",
              "      <th>trestbps</th>\n",
              "      <th>chol</th>\n",
              "      <th>fbs</th>\n",
              "      <th>restecg</th>\n",
              "      <th>thalach</th>\n",
              "      <th>exang</th>\n",
              "      <th>oldpeak</th>\n",
              "      <th>slope</th>\n",
              "      <th>ca</th>\n",
              "      <th>thal</th>\n",
              "      <th>target</th>\n",
              "    </tr>\n",
              "  </thead>\n",
              "  <tbody>\n",
              "    <tr>\n",
              "      <th>0</th>\n",
              "      <td>63.0</td>\n",
              "      <td>1.0</td>\n",
              "      <td>1.0</td>\n",
              "      <td>145.0</td>\n",
              "      <td>233.0</td>\n",
              "      <td>1.0</td>\n",
              "      <td>2.0</td>\n",
              "      <td>150.0</td>\n",
              "      <td>0.0</td>\n",
              "      <td>2.3</td>\n",
              "      <td>3.0</td>\n",
              "      <td>0.0</td>\n",
              "      <td>6.0</td>\n",
              "      <td>0</td>\n",
              "    </tr>\n",
              "    <tr>\n",
              "      <th>1</th>\n",
              "      <td>67.0</td>\n",
              "      <td>1.0</td>\n",
              "      <td>4.0</td>\n",
              "      <td>160.0</td>\n",
              "      <td>286.0</td>\n",
              "      <td>0.0</td>\n",
              "      <td>2.0</td>\n",
              "      <td>108.0</td>\n",
              "      <td>1.0</td>\n",
              "      <td>1.5</td>\n",
              "      <td>2.0</td>\n",
              "      <td>3.0</td>\n",
              "      <td>3.0</td>\n",
              "      <td>2</td>\n",
              "    </tr>\n",
              "    <tr>\n",
              "      <th>2</th>\n",
              "      <td>67.0</td>\n",
              "      <td>1.0</td>\n",
              "      <td>4.0</td>\n",
              "      <td>120.0</td>\n",
              "      <td>229.0</td>\n",
              "      <td>0.0</td>\n",
              "      <td>2.0</td>\n",
              "      <td>129.0</td>\n",
              "      <td>1.0</td>\n",
              "      <td>2.6</td>\n",
              "      <td>2.0</td>\n",
              "      <td>2.0</td>\n",
              "      <td>7.0</td>\n",
              "      <td>1</td>\n",
              "    </tr>\n",
              "    <tr>\n",
              "      <th>3</th>\n",
              "      <td>37.0</td>\n",
              "      <td>1.0</td>\n",
              "      <td>3.0</td>\n",
              "      <td>130.0</td>\n",
              "      <td>250.0</td>\n",
              "      <td>0.0</td>\n",
              "      <td>0.0</td>\n",
              "      <td>187.0</td>\n",
              "      <td>0.0</td>\n",
              "      <td>3.5</td>\n",
              "      <td>3.0</td>\n",
              "      <td>0.0</td>\n",
              "      <td>3.0</td>\n",
              "      <td>0</td>\n",
              "    </tr>\n",
              "    <tr>\n",
              "      <th>4</th>\n",
              "      <td>41.0</td>\n",
              "      <td>0.0</td>\n",
              "      <td>2.0</td>\n",
              "      <td>130.0</td>\n",
              "      <td>204.0</td>\n",
              "      <td>0.0</td>\n",
              "      <td>2.0</td>\n",
              "      <td>172.0</td>\n",
              "      <td>0.0</td>\n",
              "      <td>1.4</td>\n",
              "      <td>1.0</td>\n",
              "      <td>0.0</td>\n",
              "      <td>3.0</td>\n",
              "      <td>0</td>\n",
              "    </tr>\n",
              "    <tr>\n",
              "      <th>5</th>\n",
              "      <td>56.0</td>\n",
              "      <td>1.0</td>\n",
              "      <td>2.0</td>\n",
              "      <td>120.0</td>\n",
              "      <td>236.0</td>\n",
              "      <td>0.0</td>\n",
              "      <td>0.0</td>\n",
              "      <td>178.0</td>\n",
              "      <td>0.0</td>\n",
              "      <td>0.8</td>\n",
              "      <td>1.0</td>\n",
              "      <td>0.0</td>\n",
              "      <td>3.0</td>\n",
              "      <td>0</td>\n",
              "    </tr>\n",
              "    <tr>\n",
              "      <th>6</th>\n",
              "      <td>62.0</td>\n",
              "      <td>0.0</td>\n",
              "      <td>4.0</td>\n",
              "      <td>140.0</td>\n",
              "      <td>268.0</td>\n",
              "      <td>0.0</td>\n",
              "      <td>2.0</td>\n",
              "      <td>160.0</td>\n",
              "      <td>0.0</td>\n",
              "      <td>3.6</td>\n",
              "      <td>3.0</td>\n",
              "      <td>2.0</td>\n",
              "      <td>3.0</td>\n",
              "      <td>3</td>\n",
              "    </tr>\n",
              "    <tr>\n",
              "      <th>7</th>\n",
              "      <td>57.0</td>\n",
              "      <td>0.0</td>\n",
              "      <td>4.0</td>\n",
              "      <td>120.0</td>\n",
              "      <td>354.0</td>\n",
              "      <td>0.0</td>\n",
              "      <td>0.0</td>\n",
              "      <td>163.0</td>\n",
              "      <td>1.0</td>\n",
              "      <td>0.6</td>\n",
              "      <td>1.0</td>\n",
              "      <td>0.0</td>\n",
              "      <td>3.0</td>\n",
              "      <td>0</td>\n",
              "    </tr>\n",
              "    <tr>\n",
              "      <th>8</th>\n",
              "      <td>63.0</td>\n",
              "      <td>1.0</td>\n",
              "      <td>4.0</td>\n",
              "      <td>130.0</td>\n",
              "      <td>254.0</td>\n",
              "      <td>0.0</td>\n",
              "      <td>2.0</td>\n",
              "      <td>147.0</td>\n",
              "      <td>0.0</td>\n",
              "      <td>1.4</td>\n",
              "      <td>2.0</td>\n",
              "      <td>1.0</td>\n",
              "      <td>7.0</td>\n",
              "      <td>2</td>\n",
              "    </tr>\n",
              "    <tr>\n",
              "      <th>9</th>\n",
              "      <td>53.0</td>\n",
              "      <td>1.0</td>\n",
              "      <td>4.0</td>\n",
              "      <td>140.0</td>\n",
              "      <td>203.0</td>\n",
              "      <td>1.0</td>\n",
              "      <td>2.0</td>\n",
              "      <td>155.0</td>\n",
              "      <td>1.0</td>\n",
              "      <td>3.1</td>\n",
              "      <td>3.0</td>\n",
              "      <td>0.0</td>\n",
              "      <td>7.0</td>\n",
              "      <td>1</td>\n",
              "    </tr>\n",
              "  </tbody>\n",
              "</table>\n",
              "</div>\n",
              "    <div class=\"colab-df-buttons\">\n",
              "\n",
              "  <div class=\"colab-df-container\">\n",
              "    <button class=\"colab-df-convert\" onclick=\"convertToInteractive('df-100d6595-0efd-401f-be3b-310904070a8a')\"\n",
              "            title=\"Convert this dataframe to an interactive table.\"\n",
              "            style=\"display:none;\">\n",
              "\n",
              "  <svg xmlns=\"http://www.w3.org/2000/svg\" height=\"24px\" viewBox=\"0 -960 960 960\">\n",
              "    <path d=\"M120-120v-720h720v720H120Zm60-500h600v-160H180v160Zm220 220h160v-160H400v160Zm0 220h160v-160H400v160ZM180-400h160v-160H180v160Zm440 0h160v-160H620v160ZM180-180h160v-160H180v160Zm440 0h160v-160H620v160Z\"/>\n",
              "  </svg>\n",
              "    </button>\n",
              "\n",
              "  <style>\n",
              "    .colab-df-container {\n",
              "      display:flex;\n",
              "      gap: 12px;\n",
              "    }\n",
              "\n",
              "    .colab-df-convert {\n",
              "      background-color: #E8F0FE;\n",
              "      border: none;\n",
              "      border-radius: 50%;\n",
              "      cursor: pointer;\n",
              "      display: none;\n",
              "      fill: #1967D2;\n",
              "      height: 32px;\n",
              "      padding: 0 0 0 0;\n",
              "      width: 32px;\n",
              "    }\n",
              "\n",
              "    .colab-df-convert:hover {\n",
              "      background-color: #E2EBFA;\n",
              "      box-shadow: 0px 1px 2px rgba(60, 64, 67, 0.3), 0px 1px 3px 1px rgba(60, 64, 67, 0.15);\n",
              "      fill: #174EA6;\n",
              "    }\n",
              "\n",
              "    .colab-df-buttons div {\n",
              "      margin-bottom: 4px;\n",
              "    }\n",
              "\n",
              "    [theme=dark] .colab-df-convert {\n",
              "      background-color: #3B4455;\n",
              "      fill: #D2E3FC;\n",
              "    }\n",
              "\n",
              "    [theme=dark] .colab-df-convert:hover {\n",
              "      background-color: #434B5C;\n",
              "      box-shadow: 0px 1px 3px 1px rgba(0, 0, 0, 0.15);\n",
              "      filter: drop-shadow(0px 1px 2px rgba(0, 0, 0, 0.3));\n",
              "      fill: #FFFFFF;\n",
              "    }\n",
              "  </style>\n",
              "\n",
              "    <script>\n",
              "      const buttonEl =\n",
              "        document.querySelector('#df-100d6595-0efd-401f-be3b-310904070a8a button.colab-df-convert');\n",
              "      buttonEl.style.display =\n",
              "        google.colab.kernel.accessAllowed ? 'block' : 'none';\n",
              "\n",
              "      async function convertToInteractive(key) {\n",
              "        const element = document.querySelector('#df-100d6595-0efd-401f-be3b-310904070a8a');\n",
              "        const dataTable =\n",
              "          await google.colab.kernel.invokeFunction('convertToInteractive',\n",
              "                                                    [key], {});\n",
              "        if (!dataTable) return;\n",
              "\n",
              "        const docLinkHtml = 'Like what you see? Visit the ' +\n",
              "          '<a target=\"_blank\" href=https://colab.research.google.com/notebooks/data_table.ipynb>data table notebook</a>'\n",
              "          + ' to learn more about interactive tables.';\n",
              "        element.innerHTML = '';\n",
              "        dataTable['output_type'] = 'display_data';\n",
              "        await google.colab.output.renderOutput(dataTable, element);\n",
              "        const docLink = document.createElement('div');\n",
              "        docLink.innerHTML = docLinkHtml;\n",
              "        element.appendChild(docLink);\n",
              "      }\n",
              "    </script>\n",
              "  </div>\n",
              "\n",
              "\n",
              "    <div id=\"df-1c4d6000-1607-4a04-8184-bec8933c3e77\">\n",
              "      <button class=\"colab-df-quickchart\" onclick=\"quickchart('df-1c4d6000-1607-4a04-8184-bec8933c3e77')\"\n",
              "                title=\"Suggest charts\"\n",
              "                style=\"display:none;\">\n",
              "\n",
              "<svg xmlns=\"http://www.w3.org/2000/svg\" height=\"24px\"viewBox=\"0 0 24 24\"\n",
              "     width=\"24px\">\n",
              "    <g>\n",
              "        <path d=\"M19 3H5c-1.1 0-2 .9-2 2v14c0 1.1.9 2 2 2h14c1.1 0 2-.9 2-2V5c0-1.1-.9-2-2-2zM9 17H7v-7h2v7zm4 0h-2V7h2v10zm4 0h-2v-4h2v4z\"/>\n",
              "    </g>\n",
              "</svg>\n",
              "      </button>\n",
              "\n",
              "<style>\n",
              "  .colab-df-quickchart {\n",
              "      --bg-color: #E8F0FE;\n",
              "      --fill-color: #1967D2;\n",
              "      --hover-bg-color: #E2EBFA;\n",
              "      --hover-fill-color: #174EA6;\n",
              "      --disabled-fill-color: #AAA;\n",
              "      --disabled-bg-color: #DDD;\n",
              "  }\n",
              "\n",
              "  [theme=dark] .colab-df-quickchart {\n",
              "      --bg-color: #3B4455;\n",
              "      --fill-color: #D2E3FC;\n",
              "      --hover-bg-color: #434B5C;\n",
              "      --hover-fill-color: #FFFFFF;\n",
              "      --disabled-bg-color: #3B4455;\n",
              "      --disabled-fill-color: #666;\n",
              "  }\n",
              "\n",
              "  .colab-df-quickchart {\n",
              "    background-color: var(--bg-color);\n",
              "    border: none;\n",
              "    border-radius: 50%;\n",
              "    cursor: pointer;\n",
              "    display: none;\n",
              "    fill: var(--fill-color);\n",
              "    height: 32px;\n",
              "    padding: 0;\n",
              "    width: 32px;\n",
              "  }\n",
              "\n",
              "  .colab-df-quickchart:hover {\n",
              "    background-color: var(--hover-bg-color);\n",
              "    box-shadow: 0 1px 2px rgba(60, 64, 67, 0.3), 0 1px 3px 1px rgba(60, 64, 67, 0.15);\n",
              "    fill: var(--button-hover-fill-color);\n",
              "  }\n",
              "\n",
              "  .colab-df-quickchart-complete:disabled,\n",
              "  .colab-df-quickchart-complete:disabled:hover {\n",
              "    background-color: var(--disabled-bg-color);\n",
              "    fill: var(--disabled-fill-color);\n",
              "    box-shadow: none;\n",
              "  }\n",
              "\n",
              "  .colab-df-spinner {\n",
              "    border: 2px solid var(--fill-color);\n",
              "    border-color: transparent;\n",
              "    border-bottom-color: var(--fill-color);\n",
              "    animation:\n",
              "      spin 1s steps(1) infinite;\n",
              "  }\n",
              "\n",
              "  @keyframes spin {\n",
              "    0% {\n",
              "      border-color: transparent;\n",
              "      border-bottom-color: var(--fill-color);\n",
              "      border-left-color: var(--fill-color);\n",
              "    }\n",
              "    20% {\n",
              "      border-color: transparent;\n",
              "      border-left-color: var(--fill-color);\n",
              "      border-top-color: var(--fill-color);\n",
              "    }\n",
              "    30% {\n",
              "      border-color: transparent;\n",
              "      border-left-color: var(--fill-color);\n",
              "      border-top-color: var(--fill-color);\n",
              "      border-right-color: var(--fill-color);\n",
              "    }\n",
              "    40% {\n",
              "      border-color: transparent;\n",
              "      border-right-color: var(--fill-color);\n",
              "      border-top-color: var(--fill-color);\n",
              "    }\n",
              "    60% {\n",
              "      border-color: transparent;\n",
              "      border-right-color: var(--fill-color);\n",
              "    }\n",
              "    80% {\n",
              "      border-color: transparent;\n",
              "      border-right-color: var(--fill-color);\n",
              "      border-bottom-color: var(--fill-color);\n",
              "    }\n",
              "    90% {\n",
              "      border-color: transparent;\n",
              "      border-bottom-color: var(--fill-color);\n",
              "    }\n",
              "  }\n",
              "</style>\n",
              "\n",
              "      <script>\n",
              "        async function quickchart(key) {\n",
              "          const quickchartButtonEl =\n",
              "            document.querySelector('#' + key + ' button');\n",
              "          quickchartButtonEl.disabled = true;  // To prevent multiple clicks.\n",
              "          quickchartButtonEl.classList.add('colab-df-spinner');\n",
              "          try {\n",
              "            const charts = await google.colab.kernel.invokeFunction(\n",
              "                'suggestCharts', [key], {});\n",
              "          } catch (error) {\n",
              "            console.error('Error during call to suggestCharts:', error);\n",
              "          }\n",
              "          quickchartButtonEl.classList.remove('colab-df-spinner');\n",
              "          quickchartButtonEl.classList.add('colab-df-quickchart-complete');\n",
              "        }\n",
              "        (() => {\n",
              "          let quickchartButtonEl =\n",
              "            document.querySelector('#df-1c4d6000-1607-4a04-8184-bec8933c3e77 button');\n",
              "          quickchartButtonEl.style.display =\n",
              "            google.colab.kernel.accessAllowed ? 'block' : 'none';\n",
              "        })();\n",
              "      </script>\n",
              "    </div>\n",
              "\n",
              "    </div>\n",
              "  </div>\n"
            ],
            "application/vnd.google.colaboratory.intrinsic+json": {
              "type": "dataframe",
              "variable_name": "data",
              "summary": "{\n  \"name\": \"data\",\n  \"rows\": 303,\n  \"fields\": [\n    {\n      \"column\": \"age\",\n      \"properties\": {\n        \"dtype\": \"number\",\n        \"std\": 9.038662442446743,\n        \"min\": 29.0,\n        \"max\": 77.0,\n        \"num_unique_values\": 41,\n        \"samples\": [\n          61.0,\n          64.0,\n          44.0\n        ],\n        \"semantic_type\": \"\",\n        \"description\": \"\"\n      }\n    },\n    {\n      \"column\": \"sex\",\n      \"properties\": {\n        \"dtype\": \"number\",\n        \"std\": 0.4672988277701313,\n        \"min\": 0.0,\n        \"max\": 1.0,\n        \"num_unique_values\": 2,\n        \"samples\": [\n          0.0,\n          1.0\n        ],\n        \"semantic_type\": \"\",\n        \"description\": \"\"\n      }\n    },\n    {\n      \"column\": \"cp\",\n      \"properties\": {\n        \"dtype\": \"number\",\n        \"std\": 0.9601256119600123,\n        \"min\": 1.0,\n        \"max\": 4.0,\n        \"num_unique_values\": 4,\n        \"samples\": [\n          4.0,\n          2.0\n        ],\n        \"semantic_type\": \"\",\n        \"description\": \"\"\n      }\n    },\n    {\n      \"column\": \"trestbps\",\n      \"properties\": {\n        \"dtype\": \"number\",\n        \"std\": 17.599747729587687,\n        \"min\": 94.0,\n        \"max\": 200.0,\n        \"num_unique_values\": 50,\n        \"samples\": [\n          124.0,\n          192.0\n        ],\n        \"semantic_type\": \"\",\n        \"description\": \"\"\n      }\n    },\n    {\n      \"column\": \"chol\",\n      \"properties\": {\n        \"dtype\": \"number\",\n        \"std\": 51.776917542637015,\n        \"min\": 126.0,\n        \"max\": 564.0,\n        \"num_unique_values\": 152,\n        \"samples\": [\n          321.0,\n          187.0\n        ],\n        \"semantic_type\": \"\",\n        \"description\": \"\"\n      }\n    },\n    {\n      \"column\": \"fbs\",\n      \"properties\": {\n        \"dtype\": \"number\",\n        \"std\": 0.35619787492797594,\n        \"min\": 0.0,\n        \"max\": 1.0,\n        \"num_unique_values\": 2,\n        \"samples\": [\n          0.0,\n          1.0\n        ],\n        \"semantic_type\": \"\",\n        \"description\": \"\"\n      }\n    },\n    {\n      \"column\": \"restecg\",\n      \"properties\": {\n        \"dtype\": \"number\",\n        \"std\": 0.9949712915251797,\n        \"min\": 0.0,\n        \"max\": 2.0,\n        \"num_unique_values\": 3,\n        \"samples\": [\n          2.0,\n          0.0\n        ],\n        \"semantic_type\": \"\",\n        \"description\": \"\"\n      }\n    },\n    {\n      \"column\": \"thalach\",\n      \"properties\": {\n        \"dtype\": \"number\",\n        \"std\": 22.875003276980376,\n        \"min\": 71.0,\n        \"max\": 202.0,\n        \"num_unique_values\": 91,\n        \"samples\": [\n          170.0,\n          114.0\n        ],\n        \"semantic_type\": \"\",\n        \"description\": \"\"\n      }\n    },\n    {\n      \"column\": \"exang\",\n      \"properties\": {\n        \"dtype\": \"number\",\n        \"std\": 0.46979446452231716,\n        \"min\": 0.0,\n        \"max\": 1.0,\n        \"num_unique_values\": 2,\n        \"samples\": [\n          1.0,\n          0.0\n        ],\n        \"semantic_type\": \"\",\n        \"description\": \"\"\n      }\n    },\n    {\n      \"column\": \"oldpeak\",\n      \"properties\": {\n        \"dtype\": \"number\",\n        \"std\": 1.161075022068634,\n        \"min\": 0.0,\n        \"max\": 6.2,\n        \"num_unique_values\": 40,\n        \"samples\": [\n          2.4,\n          0.2\n        ],\n        \"semantic_type\": \"\",\n        \"description\": \"\"\n      }\n    },\n    {\n      \"column\": \"slope\",\n      \"properties\": {\n        \"dtype\": \"number\",\n        \"std\": 0.6162261453459627,\n        \"min\": 1.0,\n        \"max\": 3.0,\n        \"num_unique_values\": 3,\n        \"samples\": [\n          3.0,\n          2.0\n        ],\n        \"semantic_type\": \"\",\n        \"description\": \"\"\n      }\n    },\n    {\n      \"column\": \"ca\",\n      \"properties\": {\n        \"dtype\": \"category\",\n        \"num_unique_values\": 5,\n        \"samples\": [\n          \"3.0\",\n          \"?\"\n        ],\n        \"semantic_type\": \"\",\n        \"description\": \"\"\n      }\n    },\n    {\n      \"column\": \"thal\",\n      \"properties\": {\n        \"dtype\": \"category\",\n        \"num_unique_values\": 4,\n        \"samples\": [\n          \"3.0\",\n          \"?\"\n        ],\n        \"semantic_type\": \"\",\n        \"description\": \"\"\n      }\n    },\n    {\n      \"column\": \"target\",\n      \"properties\": {\n        \"dtype\": \"number\",\n        \"std\": 1,\n        \"min\": 0,\n        \"max\": 4,\n        \"num_unique_values\": 5,\n        \"samples\": [\n          2,\n          4\n        ],\n        \"semantic_type\": \"\",\n        \"description\": \"\"\n      }\n    }\n  ]\n}"
            }
          },
          "metadata": {},
          "execution_count": 7
        }
      ]
    },
    {
      "cell_type": "markdown",
      "source": [
        "After importing necessary libraries, we should load our *Credit Card Dataset ( [UCI dataset link](https://archive.ics.uci.edu/ml/machine-learning-databases/heart-disease/processed.cleveland.data))*"
      ],
      "metadata": {
        "id": "CXKmZ3f4GIBq"
      }
    },
    {
      "cell_type": "code",
      "source": [
        "data.replace('?', np.nan, inplace = True)"
      ],
      "metadata": {
        "id": "g8tQmWmFF-cB"
      },
      "execution_count": null,
      "outputs": []
    },
    {
      "cell_type": "markdown",
      "source": [
        "We have to replace '?' with NaN (NULL values) for missing value handling using numpy library."
      ],
      "metadata": {
        "id": "ZLtKhpi5GVza"
      }
    },
    {
      "cell_type": "code",
      "source": [
        "data.info()"
      ],
      "metadata": {
        "colab": {
          "base_uri": "https://localhost:8080/"
        },
        "id": "5CMHOIITGTJ6",
        "outputId": "a75f483a-e3ac-4046-f6b9-e805cc15f21d"
      },
      "execution_count": null,
      "outputs": [
        {
          "output_type": "stream",
          "name": "stdout",
          "text": [
            "<class 'pandas.core.frame.DataFrame'>\n",
            "RangeIndex: 303 entries, 0 to 302\n",
            "Data columns (total 14 columns):\n",
            " #   Column    Non-Null Count  Dtype  \n",
            "---  ------    --------------  -----  \n",
            " 0   age       303 non-null    float64\n",
            " 1   sex       303 non-null    float64\n",
            " 2   cp        303 non-null    float64\n",
            " 3   trestbps  303 non-null    float64\n",
            " 4   chol      303 non-null    float64\n",
            " 5   fbs       303 non-null    float64\n",
            " 6   restecg   303 non-null    float64\n",
            " 7   thalach   303 non-null    float64\n",
            " 8   exang     303 non-null    float64\n",
            " 9   oldpeak   303 non-null    float64\n",
            " 10  slope     303 non-null    float64\n",
            " 11  ca        299 non-null    object \n",
            " 12  thal      301 non-null    object \n",
            " 13  target    303 non-null    int64  \n",
            "dtypes: float64(11), int64(1), object(2)\n",
            "memory usage: 33.3+ KB\n"
          ]
        }
      ]
    },
    {
      "cell_type": "code",
      "source": [
        "data.isna().sum()"
      ],
      "metadata": {
        "colab": {
          "base_uri": "https://localhost:8080/",
          "height": 523
        },
        "id": "mO_ouHTRHl-I",
        "outputId": "d472618c-0ff1-47e4-fd02-942159aefe1e"
      },
      "execution_count": null,
      "outputs": [
        {
          "output_type": "execute_result",
          "data": {
            "text/plain": [
              "age         0\n",
              "sex         0\n",
              "cp          0\n",
              "trestbps    0\n",
              "chol        0\n",
              "fbs         0\n",
              "restecg     0\n",
              "thalach     0\n",
              "exang       0\n",
              "oldpeak     0\n",
              "slope       0\n",
              "ca          4\n",
              "thal        2\n",
              "target      0\n",
              "dtype: int64"
            ],
            "text/html": [
              "<div>\n",
              "<style scoped>\n",
              "    .dataframe tbody tr th:only-of-type {\n",
              "        vertical-align: middle;\n",
              "    }\n",
              "\n",
              "    .dataframe tbody tr th {\n",
              "        vertical-align: top;\n",
              "    }\n",
              "\n",
              "    .dataframe thead th {\n",
              "        text-align: right;\n",
              "    }\n",
              "</style>\n",
              "<table border=\"1\" class=\"dataframe\">\n",
              "  <thead>\n",
              "    <tr style=\"text-align: right;\">\n",
              "      <th></th>\n",
              "      <th>0</th>\n",
              "    </tr>\n",
              "  </thead>\n",
              "  <tbody>\n",
              "    <tr>\n",
              "      <th>age</th>\n",
              "      <td>0</td>\n",
              "    </tr>\n",
              "    <tr>\n",
              "      <th>sex</th>\n",
              "      <td>0</td>\n",
              "    </tr>\n",
              "    <tr>\n",
              "      <th>cp</th>\n",
              "      <td>0</td>\n",
              "    </tr>\n",
              "    <tr>\n",
              "      <th>trestbps</th>\n",
              "      <td>0</td>\n",
              "    </tr>\n",
              "    <tr>\n",
              "      <th>chol</th>\n",
              "      <td>0</td>\n",
              "    </tr>\n",
              "    <tr>\n",
              "      <th>fbs</th>\n",
              "      <td>0</td>\n",
              "    </tr>\n",
              "    <tr>\n",
              "      <th>restecg</th>\n",
              "      <td>0</td>\n",
              "    </tr>\n",
              "    <tr>\n",
              "      <th>thalach</th>\n",
              "      <td>0</td>\n",
              "    </tr>\n",
              "    <tr>\n",
              "      <th>exang</th>\n",
              "      <td>0</td>\n",
              "    </tr>\n",
              "    <tr>\n",
              "      <th>oldpeak</th>\n",
              "      <td>0</td>\n",
              "    </tr>\n",
              "    <tr>\n",
              "      <th>slope</th>\n",
              "      <td>0</td>\n",
              "    </tr>\n",
              "    <tr>\n",
              "      <th>ca</th>\n",
              "      <td>4</td>\n",
              "    </tr>\n",
              "    <tr>\n",
              "      <th>thal</th>\n",
              "      <td>2</td>\n",
              "    </tr>\n",
              "    <tr>\n",
              "      <th>target</th>\n",
              "      <td>0</td>\n",
              "    </tr>\n",
              "  </tbody>\n",
              "</table>\n",
              "</div><br><label><b>dtype:</b> int64</label>"
            ]
          },
          "metadata": {},
          "execution_count": 19
        }
      ]
    },
    {
      "cell_type": "markdown",
      "source": [
        "Alternatively, we can use \"*.isna().sum()* \", there is no difference between them.\n",
        "\n",
        "Eventually, **we don't have any NULL values**."
      ],
      "metadata": {
        "id": "QhuqO7YTHrXe"
      }
    },
    {
      "cell_type": "code",
      "source": [
        "ms.matrix(data)"
      ],
      "metadata": {
        "colab": {
          "base_uri": "https://localhost:8080/",
          "height": 640
        },
        "id": "Z95zvxF0GeWr",
        "outputId": "0950ae4a-96fd-4438-bcf9-01588c42c017"
      },
      "execution_count": null,
      "outputs": [
        {
          "output_type": "execute_result",
          "data": {
            "text/plain": [
              "<Axes: >"
            ]
          },
          "metadata": {},
          "execution_count": 18
        },
        {
          "output_type": "display_data",
          "data": {
            "text/plain": [
              "<Figure size 2500x1000 with 2 Axes>"
            ],
            "image/png": "[encoded data removed]"
          },
          "metadata": {}
        }
      ]
    },
    {
      "cell_type": "markdown",
      "source": [
        "*missingo* is a Python library used to quickly visualize and understand missing data patterns in a dataset through heatmaps, dendograms, bar charts, matrix plots, and so forth."
      ],
      "metadata": {
        "id": "rdAOdJOaHtXO"
      }
    },
    {
      "cell_type": "code",
      "source": [
        "data['ca'] = pd.to_numeric(data['ca'], errors = 'coerce')\n",
        "data['thal'] = pd.to_numeric(data['thal'], errors = 'coerce')"
      ],
      "metadata": {
        "id": "Ae3KKlroGm5I"
      },
      "execution_count": null,
      "outputs": []
    },
    {
      "cell_type": "markdown",
      "source": [
        "We should convert 'ca' and 'thal' columns to numeric because the data type is \"object\" for both of them. In addition, we can change them using pandas library easily.\n",
        "\n",
        "*Note*: errors = 'coerce' in Pandas: if a value cannot be converted to a number (i.e., it's a string like '?'), replace it with NaN (Not a Number)."
      ],
      "metadata": {
        "id": "9kaJXSANH1FO"
      }
    },
    {
      "cell_type": "code",
      "source": [
        "data['target'] = data['target'].apply(lambda x: 1 if x > 0 else 0)"
      ],
      "metadata": {
        "id": "lHncpbm-Iefs"
      },
      "execution_count": null,
      "outputs": []
    },
    {
      "cell_type": "markdown",
      "source": [
        "In the dataset, the target variable represents the presence and severity of heart disease, with values ranging from 0 to 4. A value of 0 indicates the absence of heart disease, while values 1 through 4 correspond to varying degrees of the condition. For the purpose of simplifying the problem into a binary classification task, it is common practice to group all non-zero values into a single category representing the presence of heart disease.\n",
        "\n",
        "The line of the code performs this transformation. It maps all values greater than 0 to 1, indicating the presence of disease, and retains 0 for the absence of disease. This binary representation is essential for training classification models that distinguish between individuals with and without heart disease, thereby improving model interpretability and reducing complexity."
      ],
      "metadata": {
        "id": "rmhZ6mPxI2v0"
      }
    },
    {
      "cell_type": "code",
      "source": [
        "#Our target column will be \"target\", however before creating x and y, let's count its values;\n",
        "\n",
        "print(data['target'].value_counts())"
      ],
      "metadata": {
        "colab": {
          "base_uri": "https://localhost:8080/"
        },
        "id": "gXzHTpgzJAh9",
        "outputId": "6fd017f4-37c5-47b6-fdbc-330c22d7bb18"
      },
      "execution_count": null,
      "outputs": [
        {
          "output_type": "stream",
          "name": "stdout",
          "text": [
            "target\n",
            "0    164\n",
            "1    139\n",
            "Name: count, dtype: int64\n"
          ]
        }
      ]
    },
    {
      "cell_type": "markdown",
      "source": [
        "First of all, let's explain the column explicitly, in here we have 2 values (0 and 1)\n",
        "\n",
        "0 -> the transaction is the absence of disease.\n",
        "1 -> the transaction is the presence of disease."
      ],
      "metadata": {
        "id": "_e0tSn6aJK3j"
      }
    },
    {
      "cell_type": "code",
      "source": [
        "# Split data into features and target\n",
        "\n",
        "y = data['target']\n",
        "x = data.drop(columns = 'target')\n",
        "\n",
        "print(x.columns)\n",
        "\n",
        "# Split data into training and testing sets\n",
        "\n",
        "x_train, x_test, y_train, y_test = train_test_split(x, y, test_size = 0.2, random_state = 42)"
      ],
      "metadata": {
        "colab": {
          "base_uri": "https://localhost:8080/"
        },
        "id": "BrG_yftKJdID",
        "outputId": "f4707b4c-d1a8-40db-a8f3-0a0d2242b059"
      },
      "execution_count": null,
      "outputs": [
        {
          "output_type": "stream",
          "name": "stdout",
          "text": [
            "Index(['age', 'sex', 'cp', 'trestbps', 'chol', 'fbs', 'restecg', 'thalach',\n",
            "       'exang', 'oldpeak', 'slope', 'ca', 'thal'],\n",
            "      dtype='object')\n"
          ]
        }
      ]
    },
    {
      "cell_type": "code",
      "source": [
        "# Preprocessing pipeline for numerical features\n",
        "numeric_transformer = Pipeline(steps=[\n",
        "    ('imputer', SimpleImputer(strategy = 'mean')),\n",
        "    ('scaler', StandardScaler())])\n",
        "\n",
        "# Apply preprocessing to all features\n",
        "preprocessor = Pipeline(steps=[\n",
        "    ('imputer', SimpleImputer(strategy = 'mean')),\n",
        "    ('scaler', StandardScaler())])"
      ],
      "metadata": {
        "id": "pSTFederKNTD"
      },
      "execution_count": null,
      "outputs": []
    },
    {
      "cell_type": "markdown",
      "source": [
        "To begin with, the code defines preprocessing steps for handling numerical features in a ML pipeline. Preprocessing is a critical phase in data preparation, particularly when working with numerical data that may contain missing values or varying scales. The pipeline is constructed using *Pipeline* from the *sklearn.pipeline* module and includes two main operations: **imputation and scaling**.\n",
        "\n",
        "1) The first part of the code creates a pipeline specifically for numerical features:\n",
        "\n",
        "This pipeline, referred to as *numeric_transformer*, performs two preprocessing tasks in sequence:\n",
        "\n",
        "a. ***Imputation***: The first step uses *SimpleImputer* with the strategy set to 'mean'. This replaces any missing values in the numerical data with the mean value of the corresponding column. Imputation is necessary because many machine learning algorithms cannot handle missing values directly.\n",
        "\n",
        "b. ***Scaling***: The second step applies *StandardScaler*, which standardizes the features by removing the mean and scaling to unit variance. This transformation ensures that each numerical feature has a mean of zero and a standard deviation of one. Scaling is particularly important when features are measured on different scales, as it helps algorithms such as logistic regression, support vector machines, and neural networks perform more effectively.\n",
        "\n",
        "2) The second part of the code appears to replicate the same pipeline:\n",
        "\n",
        "In this instance, the pipeline is assigned to the variable *preprocessor*, which suggests it may be used more generally for applying preprocessing steps across all features in the dataset, not just numerical ones. However, since the steps in both pipelines are identical and only involve numerical transformations, the *preprocessor* here serves the same purpose as *numeric_transformer*.\n",
        "\n",
        "In practice, a more complete preprocessing pipeline would differentiate between numerical and categorical features using *ColumnTransformer*, allowing different transformations to be applied to each type. Nevertheless, the code above lays the foundation for processing numerical inputs by ensuring that missing values are handled and that all features are on a comparable scale before being passed to a machine learning model."
      ],
      "metadata": {
        "id": "Qbs3BdNUK2oC"
      }
    },
    {
      "cell_type": "markdown",
      "source": [
        "In addition, let's talk about;\n",
        "\n",
        "* *Scaling*\n",
        "\n",
        "Scaling in ML is all about getting your data to play nice together so your model doesn't trip over numbers that are on totally different scales like height in CMs say 180 and weight in KGs say 80 without scaling big numbers can bully smaller ones in algorithms like KNN, SVM or neural networks because they rely on distances or gradients scaling makes sure every feature gets an equal shot so your model learns better and faster its super important for stuff like gradient descent where big differences in scale can slow things down or mess up results plus it keeps things fair so no feature dominates just cause its numbers are bigger you dont always need scaling though like with decision trees or random forests since they don't care about scale but for most other models its a must.\n",
        "\n",
        "Now, let's talk two big scaling methods **MinMaxScaler and Z-score** standardization a.k.a StandardScaler;\n",
        "\n",
        "** *MinMaxScaler* ** takes your data and squashes it into a set range usually 0 to 1 it works by taking each value subtracting the smallest value in the feature and dividing by the range which is max minus min the formula is x scaled equals $X_{\\text{scaled}} = \\frac{X - X_{\\min}}{X_{\\max} - X_{\\min}}$* so if the heights are 170, 180, 190 the \"min is 170\",  \"max is 190\",  \"range is 20\". Thus,\n",
        "\n",
        "* 180 => 180 minus 170 divided by 20 which is *0.5*\n",
        "* 170 => 170 minus 170 divided by 20 which is *0.0*\n",
        "* 190 => 190 minus 170 divided by 20 which is *1.0*\n",
        "\n",
        "Eventually, this puts everything between 0 and 1 keeping the relative distances between values its great for models that like bounded data like NNs but watch out for outliers cause a crazy high or low value can squish everything else.\n",
        "\n",
        "On the other hand, * **Z-score standardization or StandardScaler** * is different it makes your data have a mean of 0 and a standard deviation of 1 basically centering it around zero with a consistent spread the formula is, ($X_{\\text{scaled}} = \\frac{X - \\mu}{\\sigma}$). This method assumes your data is kinda normal bell curve ish and works awesome for algorithms like linear regression or SVM but outliers can mess with the mean and standard deviation so if your data’s wild you might need something else like RobustScaler.\n",
        "\n",
        "* Mean: $\\mu = \\frac{180 + 170 + 190}{3} = 180$\n",
        "* Std: $\\sigma = \\sqrt{\\frac{(180-180)^2 + (170-180)^2 + (190-180)^2}{3}} = \\sqrt{\\frac{0 + 100 + 100}{3}} \\approx 8$\n",
        "\n",
        "Then;\n",
        "* Z(180) => 180 minus 180 divided by 8 which is *0.0*\n",
        "* Z(170) => 170 minus 180 divided by 8 which is *-1.2*\n",
        "* Z(190) => 190 minus 180 divided by 8 which is *1.2*\n",
        "\n",
        "Key points always scale after splitting your data into training and test sets to avoid data leakage where test info sneaks into training only fit your scaler on training data then use it to transform both training and test data MinMax is good for bounded ranges Z-score is better for normally distributed data if you got outliers RobustScaler might be your friend since it uses medians instead of means you can also reverse scaling to get back to original values which is handy for interpreting results.\n"
      ],
      "metadata": {
        "id": "7H48JTg1MUoG"
      }
    },
    {
      "cell_type": "code",
      "source": [
        "# build 3 models\n",
        "\n",
        "models = {\n",
        "    'Logistic Regression': LogisticRegression(random_state = 0),\n",
        "    'KNN': KNeighborsClassifier(),\n",
        "    'Decision Tree': DecisionTreeClassifier(random_state = 1)}"
      ],
      "metadata": {
        "id": "9jYvMK_ZMPdW"
      },
      "execution_count": null,
      "outputs": []
    },
    {
      "cell_type": "code",
      "source": [
        "# Hyperparameter tuning\n",
        "\n",
        "params = {\n",
        "    'Logistic Regression': {'model__C': [0.01, 0.1, 1, 10],\n",
        "        'model__solver': ['liblinear', 'lbfgs']},\n",
        "\n",
        "    'KNN': {'model__n_neighbors': [3, 5, 7, 9],\n",
        "        'model__weights': ['uniform', 'distance']},\n",
        "\n",
        "    'Decision Tree': {'model__max_depth': [3, 5, 7, None],\n",
        "        'model__min_samples_split': [2, 5, 10]}}"
      ],
      "metadata": {
        "id": "tD9SIb_MNJcs"
      },
      "execution_count": null,
      "outputs": []
    },
    {
      "cell_type": "code",
      "source": [
        "results = {}\n",
        "confusion_matrices = {}\n",
        "\n",
        "for model_name, model in models.items():\n",
        "    pipeline = Pipeline(steps=[('preprocessor', preprocessor),('model', model)])\n",
        "\n",
        "    # GridSearchCV\n",
        "    grid = GridSearchCV(pipeline, params[model_name], cv = 5, scoring = 'accuracy', n_jobs = -1)\n",
        "    grid.fit(x_train, y_train)\n",
        "\n",
        "    best_model = grid.best_estimator_\n",
        "    pred = best_model.predict(x_test)\n",
        "\n",
        "    # Accuracy\n",
        "    acc = accuracy_score(y_test, pred)\n",
        "\n",
        "    # Results\n",
        "    results[model_name] = {'best_params': grid.best_params_, 'accuracy': acc}\n",
        "\n",
        "    # CM\n",
        "    confusion_matrices[model_name] = confusion_matrix(y_test, pred)\n",
        "\n",
        "    # CR\n",
        "    print(f\"\\nClassification Report for {model_name}:\")\n",
        "    print(classification_report(y_test, pred))\n",
        "\n",
        "    # Plot confusion matrix\n",
        "    plt.figure(figsize = (8, 6))\n",
        "    sns.heatmap(confusion_matrices[model_name], annot = True, fmt = 'd', cmap = 'Greens')\n",
        "    plt.title(f'Confusion Matrix for {model_name}')\n",
        "    plt.xlabel('Predicted')\n",
        "    plt.ylabel('Actual')\n",
        "    plt.show()"
      ],
      "metadata": {
        "colab": {
          "base_uri": "https://localhost:8080/",
          "height": 1000
        },
        "id": "0iuHiUD_NpAT",
        "outputId": "2debfd81-37fd-4caf-bc94-3475708ca602"
      },
      "execution_count": null,
      "outputs": [
        {
          "output_type": "stream",
          "name": "stdout",
          "text": [
            "\n",
            "Classification Report for Logistic Regression:\n",
            "              precision    recall  f1-score   support\n",
            "\n",
            "           0       0.77      0.93      0.84        29\n",
            "           1       0.92      0.75      0.83        32\n",
            "\n",
            "    accuracy                           0.84        61\n",
            "   macro avg       0.85      0.84      0.84        61\n",
            "weighted avg       0.85      0.84      0.84        61\n",
            "\n"
          ]
        },
        {
          "output_type": "display_data",
          "data": {
            "text/plain": [
              "<Figure size 800x600 with 2 Axes>"
            ],
            "image/png": "[encoded data removed]"
          },
          "metadata": {}
        },
        {
          "output_type": "stream",
          "name": "stdout",
          "text": [
            "\n",
            "Classification Report for KNN:\n",
            "              precision    recall  f1-score   support\n",
            "\n",
            "           0       0.83      0.86      0.85        29\n",
            "           1       0.87      0.84      0.86        32\n",
            "\n",
            "    accuracy                           0.85        61\n",
            "   macro avg       0.85      0.85      0.85        61\n",
            "weighted avg       0.85      0.85      0.85        61\n",
            "\n"
          ]
        },
        {
          "output_type": "display_data",
          "data": {
            "text/plain": [
              "<Figure size 800x600 with 2 Axes>"
            ],
            "image/png": "[encoded data removed]"
          },
          "metadata": {}
        },
        {
          "output_type": "stream",
          "name": "stdout",
          "text": [
            "\n",
            "Classification Report for Decision Tree:\n",
            "              precision    recall  f1-score   support\n",
            "\n",
            "           0       0.71      0.76      0.73        29\n",
            "           1       0.77      0.72      0.74        32\n",
            "\n",
            "    accuracy                           0.74        61\n",
            "   macro avg       0.74      0.74      0.74        61\n",
            "weighted avg       0.74      0.74      0.74        61\n",
            "\n"
          ]
        },
        {
          "output_type": "display_data",
          "data": {
            "text/plain": [
              "<Figure size 800x600 with 2 Axes>"
            ],
            "image/png": "[encoded data removed]"
          },
          "metadata": {}
        }
      ]
    },
    {
      "cell_type": "markdown",
      "source": [
        "# 1)**Logistic Regression**\n",
        "\n",
        "Logistic Regression is a statistical method used for binary classification problems. Unlike linear regression, which predicts continuous outcomes, logistic regression estimates the probability that a given input belongs to a particular class. The model is based on the logistic (sigmoid) function, which maps any real-valued number to the range between 0 and 1.\n",
        "\n",
        "*Formula: * $P(y=1 \\mid X) = \\frac{1}{1 + e^{-(\\beta_0 + \\beta_1 x_1 + \\beta_2 x_2 + \\cdots + \\beta_n x_n)}}$\n",
        "\n",
        "In here,\n",
        "\n",
        "* $P(y=1 \\mid X)$ is the probability that the target variable $y$ equals 1, given the input features $X$.\n",
        "* $\\beta_0$ is the intercept (bias).\n",
        "* $\\beta_1, \\beta_2, ..., \\beta_n$ are the coefficients (weights) associated with the features $x_1, x_2, ..., x_n$.\n",
        "* $e$ is the base of the natural logarithm.\n",
        "\n",
        "The model is trained using a method called **maximum likelihood estimation**, which finds the values of the coefficients that maximize the likelihood of observing the given data. To make a classification decision, a threshold (typically 0.5) is applied to the predicted probability. If the probability is greater than or equal to the threshold, the observation is classified as class 1; otherwise, it is classified as class 0.\n",
        "\n",
        "# 2)**K-Nearest Neighbors (KNN)**\n",
        "\n",
        "The K-Nearest Neighbors (KNN) algorithm is a non-parametric, instance-based learning method used for both classification and regression tasks. In classification, KNN determines the class of a data point by looking at the classes of its $k$ closest neighbors in the training set.\n",
        "\n",
        "*Formula: *$d(x, x') = \\sqrt{(x_1 - x'_1)^2 + (x_2 - x'_2)^2 + \\cdots + (x_n - x'_n)^2}$\n",
        "\n",
        "In here,\n",
        "\n",
        "* $x$ is the feature vector of the test sample.\n",
        "* $x'$ is the feature vector of a training sample.\n",
        "* $d(x, x')$ is the distance between the two vectors.\n",
        "\n",
        "In the same way, the algorithm follows these steps:\n",
        "\n",
        "1. Choose the number of neighbors $k$.\n",
        "2. Calculate the distance between the test point and all training samples.\n",
        "3. Identify the $k$ closest samples.\n",
        "4. Assign the class label that is most frequent among these neighbors.\n",
        "\n",
        "KNN is simple and effective but can be computationally expensive for large datasets since it requires calculating distances for every prediction. It is also sensitive to the scale of the data, which is why feature scaling is important when using KNN.\n",
        "\n",
        "# 3) **Decision Tree**\n",
        "\n",
        "A Decision Tree is a supervised learning algorithm that can be used for both classification and regression. It models data by learning simple decision rules inferred from the input features. The tree is constructed by recursively splitting the dataset into subsets based on feature values that result in the best separation of classes. Moreover, the quality of a split is evaluated using metrics such as **Gini Impurity** or **Information Gain**.\n",
        "\n",
        "*Formula: *$Gini = 1 - \\sum_{i=1}^{C} p_i^2$\n",
        "\n",
        "In here,\n",
        "\n",
        "* $C$ is the number of classes.\n",
        "* $p_i$ is the proportion of samples belonging to class $i$ in the node.\n",
        "\n",
        "Alternatively, **Entropy** and **Information Gain** may be used:\n",
        "\n",
        "*Formula: *$Entropy = - \\sum_{i=1}^{C} p_i \\log_2(p_i)$\n",
        "*Formula: *$\n",
        "Information\\ Gain = Entropy_{parent} - \\sum_{j=1}^{k} \\frac{N_j}{N} \\cdot Entropy_j$\n",
        "\n",
        "In here,\n",
        "\n",
        "* $Entropy_{parent}$ is the entropy before the split.\n",
        "* $Entropy_j$ is the entropy of the child node $j$.\n",
        "* $N_j$ is the number of samples in child node $j$, and $N$ is the total number of samples.\n",
        "\n",
        "A decision tree continues splitting the data until a stopping criterion is met, such as reaching a maximum tree depth or a minimum number of samples per leaf. The resulting model is interpretable, as the prediction path can be traced from the root to a leaf node based on feature conditions.\n",
        "\n",
        "# 4) Confusion Matrix\n",
        "\n",
        "A confusion matrix is a table that shows how well your model did at predicting stuff, like frauds (Class=1) versus non-frauds (Class=0). It compares what your model predicted to what’s actually true, breaking it down into four boxes; true positives, true negatives, false positives, and false negatives. It’s super useful for fraud detection task because it shows how good XGBoost model is at catching frauds without flagging too many non-frauds.\n",
        "\n",
        "* *True Positives (TP):* Model says fraud, and it’s actually fraud.\n",
        "* *True Negatives (TN):* Model says non-fraud, and it’s actually non-fraud.\n",
        "* *False Positives (FP):* Model says fraud, but it’s non-fraud.\n",
        "* *False Negatives (FN):* Model says non-fraud, but it’s actually fraud.\n",
        "\n",
        "From this, we can calculate;\n",
        "\n",
        "* *Recall* = TP / (TP + FN)\n",
        "* *Precision* = TP / (TP + FP)\n",
        "* *F1 Score:* Balances precision and recall.\n",
        "\n",
        "# 5) **Classification Report**\n",
        "\n",
        "A classification report is a comprehensive summary of the performance of a classification model. It is commonly used to evaluate how well the model is able to predict categorical outcomes, especially in binary or multi-class classification problems. The report includes several key evaluation metrics: **precision**, **recall**, **F1-score**, and **support**. These metrics are calculated for each class individually and provide a deeper understanding of the model’s strengths and weaknesses beyond simple accuracy.\n",
        "\n",
        "* **Precision**\n",
        "\n",
        "Precision measures the proportion of positive predictions that are actually correct. It answers the question: *Of all the instances the model predicted as positive, how many were truly positive?*\n",
        "\n",
        "*Formula: *$\\text{Precision} = \\frac{\\text{True Positives}}{\\text{True Positives} + \\text{False Positives}}$\n",
        "\n",
        "High precision indicates a low false positive rate, which is important in applications where false alarms must be minimized.\n",
        "\n",
        "* **Recall (Sensitivity or True Positive Rate)**\n",
        "\n",
        "Recall measures the proportion of actual positive cases that were correctly identified by the model. It answers the question: *Of all the true positive instances, how many did the model capture?*\n",
        "\n",
        "*Formula: *$\\text{Recall} = \\frac{\\text{True Positives}}{\\text{True Positives} + \\text{False Negatives}}$\n",
        "\n",
        "High recall indicates that the model captures most of the positive cases, which is crucial in scenarios where missing positive cases is costly.\n",
        "\n",
        "* **F1-Score**\n",
        "\n",
        "The F1-score is the harmonic mean of precision and recall. It provides a balanced measure that considers both false positives and false negatives. This metric is especially useful when the class distribution is imbalanced.\n",
        "\n",
        "*Formula: *$\\text{F1-score} = 2 \\cdot \\frac{\\text{Precision} \\cdot \\text{Recall}}{\\text{Precision} + \\text{Recall}}$\n",
        "\n",
        "A high F1-score indicates that the model performs well in both identifying relevant instances and avoiding false positives.\n",
        "\n",
        "* **Support**\n",
        "\n",
        "Support refers to the number of actual occurrences of each class in the dataset. It provides context for interpreting precision, recall, and F1-score by indicating how many instances the model was evaluated on for each class.\n",
        "\n",
        "* **Overall Metrics**\n",
        "\n",
        "In addition to per-class metrics, the classification report typically includes aggregate scores such as:\n",
        "\n",
        "* **Macro Average**: The arithmetic mean of the metric scores for each class, treating all classes equally.\n",
        "* **Weighted Average**: The mean of the metric scores weighted by the support of each class, giving more influence to classes with more instances.\n",
        "* **Accuracy**: The ratio of correctly predicted instances to the total number of instances.\n",
        "\n",
        "*Formula: * $\\text{Accuracy} = \\frac{\\text{Correct Predictions}}{\\text{Total Predictions}}$"
      ],
      "metadata": {
        "id": "P5AewyaheqsZ"
      }
    },
    {
      "cell_type": "code",
      "source": [
        "# Plot accuracy comparison\n",
        "plt.figure(figsize = (8, 6))\n",
        "accuracies = [result['accuracy'] for result in results.values()]\n",
        "model_names = list(results.keys())\n",
        "\n",
        "sns.barplot(x = model_names, y = accuracies, color = 'red')\n",
        "plt.title('Model Accuracy Comparison')\n",
        "plt.ylabel('Accuracy')\n",
        "plt.xlabel('Model')\n",
        "plt.ylim(0, 1)\n",
        "plt.show()"
      ],
      "metadata": {
        "colab": {
          "base_uri": "https://localhost:8080/",
          "height": 564
        },
        "id": "AERJ2uD1dyvE",
        "outputId": "4256e9b1-ea43-437a-a081-c05aabe7495a"
      },
      "execution_count": null,
      "outputs": [
        {
          "output_type": "display_data",
          "data": {
            "text/plain": [
              "<Figure size 800x600 with 1 Axes>"
            ],
            "image/png": "[encoded data removed]"
          },
          "metadata": {}
        }
      ]
    },
    {
      "cell_type": "markdown",
      "source": [
        "In conclusion, this project developed a classification model to predict heart disease using the UCI Heart Disease dataset, employing Logistic Regression, K-Nearest Neighbors (KNN), and Decision Tree algorithms. The dataset, with all features treated as numerical (post-preprocessing), underwent comprehensive preprocessing, including mean imputation for missing values and standard scaling. Hyperparameter tuning was performed using GridSearchCV to optimize each model's performance.\n",
        "\n",
        "The results demonstrate that KNN achieved the highest accuracy at 85%, followed closely by Logistic Regression at 84%, while the Decision Tree model yielded the lowest accuracy at 74%. The superior performance of KNN suggests it effectively captured the underlying patterns in the scaled numerical features, likely due to its ability to model non-linear relationships in the data. Logistic Regression also performed robustly, indicating that the data may have linearly separable characteristics after preprocessing. The Decision Tree's lower accuracy could stem from overfitting or sensitivity to the numerical treatment of inherently categorical features, which might have introduced artificial ordinality.\n",
        "\n",
        "Furthermore,the confusion matrices and classification reports further highlight each model's strengths and weaknesses in handling true positives and negatives, with KNN and Logistic Regression showing balanced precision and recall for this binary classification task. Treating all features as numerical simplified preprocessing but may have impacted model performance, particularly for the Decision Tree, as categorical features like sex and cp are typically better suited for one-hot encoding to avoid implying ordinal relationships.\n",
        "\n",
        "As a result, KNN is recommended as the best-performing model for this dataset."
      ],
      "metadata": {
        "id": "PAu6T7IwgaPA"
      }
    },
    {
      "cell_type": "code",
      "source": [
        "# Finally"
      ],
      "metadata": {
        "id": "po61NSW0gz0R"
      },
      "execution_count": null,
      "outputs": []
    },
    {
      "cell_type": "markdown",
      "source": [
        "***I WOULD LIKE TO EXPRESS MY SINCERE GRATITUDE FOR YOUR TIME AND CONSIDERATION***"
      ],
      "metadata": {
        "id": "R6q0j9ffg4AI"
      }
    },
    {
      "cell_type": "markdown",
      "source": [
        "![image_2.webp](data:image/webp;base64,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)"
      ],
      "metadata": {
        "id": "4jDtLpeLg9OT"
      }
    }
  ]
}